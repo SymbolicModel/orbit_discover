{
 "cells": [
  {
   "cell_type": "markdown",
   "metadata": {},
   "source": [
    "# Solution - Learning Satellite orbit from data through  Perturbation forces (in RSW) - by PySR"
   ]
  },
  {
   "cell_type": "code",
   "execution_count": 51,
   "metadata": {},
   "outputs": [],
   "source": [
    "import pysr\n",
    "import numpy as np\n",
    "import pandas as pd\n",
    "import matplotlib.pyplot as plt\n",
    "from src.utils import *\n",
    "from src.propagation import *\n",
    "import pickle"
   ]
  },
  {
   "cell_type": "markdown",
   "metadata": {},
   "source": [
    "Load the CSV file with correct column extraction<br>\n",
    "Assuming the first column is time, next three are position (r1, r2, r3), last three are velocity (v1, v2, v3)"
   ]
  },
  {
   "cell_type": "code",
   "execution_count": 52,
   "metadata": {},
   "outputs": [],
   "source": [
    "df = pd.read_csv('./data/Challenge1.csv', header=0, usecols=[0,1,2,3,4,5,6], names=['time','r1', 'r2', 'r3', 'v1', 'v2', 'v3'])"
   ]
  },
  {
   "cell_type": "markdown",
   "metadata": {},
   "source": [
    "Extract position and velocity arrays<br>\n",
    "Convert time strings to pandas datetime"
   ]
  },
  {
   "cell_type": "code",
   "execution_count": 53,
   "metadata": {},
   "outputs": [],
   "source": [
    "t_raw = pd.to_datetime(df['time'])\n",
    "# Calculate seconds relative to the first time point\n",
    "t = (t_raw - t_raw.iloc[0]).dt.total_seconds().values # Time in seconds relative to first time point\n",
    "r = df[['r1', 'r2', 'r3']].values\n",
    "v = df[['v1', 'v2', 'v3']].values"
   ]
  },
  {
   "cell_type": "markdown",
   "metadata": {},
   "source": [
    "Copying in parameters (from `src/parameter.csv`)"
   ]
  },
  {
   "cell_type": "code",
   "execution_count": 54,
   "metadata": {},
   "outputs": [],
   "source": [
    "mu = 3.986004414498200e14  # Central Body's gravitational constant (m^3/s^2) - from parameter.csv\n",
    "Re = 6.378136460000000e6  # Central Body's equatorial radius (m) - from parameter.csv"
   ]
  },
  {
   "cell_type": "markdown",
   "metadata": {},
   "source": [
    "**Here is an important step**:\n",
    "To help the algorithm learn better, it is often a good idea to non-dimensionalise / rescale your data such that it is at order $\\mathcal{O}(1)$. \n",
    "\n",
    "Alternatively, you may want to use PySR in-built dimension tool to aid the learning."
   ]
  },
  {
   "cell_type": "code",
   "execution_count": 55,
   "metadata": {},
   "outputs": [],
   "source": [
    "## Finding the typical time scale and length scale of the data\n",
    "T_dim = np.sqrt(Re**3 / mu)  # Time unit for non-dimensionalization (s)\n",
    "L_dim = Re  # Length unit for non-dimensionalization (m)"
   ]
  },
  {
   "cell_type": "markdown",
   "metadata": {},
   "source": [
    "Convert the r,v representation to equinoctial"
   ]
  },
  {
   "cell_type": "code",
   "execution_count": 56,
   "metadata": {},
   "outputs": [],
   "source": [
    "equi = ijk2equinoctial(r,v,mu)"
   ]
  },
  {
   "cell_type": "markdown",
   "metadata": {},
   "source": [
    " **Non-dimensionalize equinoctial elements** (see comment above)"
   ]
  },
  {
   "cell_type": "code",
   "execution_count": 57,
   "metadata": {},
   "outputs": [],
   "source": [
    "equi[..., 0] = equi[..., 0] / L_dim  # Only the first element of equinoctial elements has the dimension of length. \n",
    "# The rest are dimensionless\n",
    "t = t / T_dim  # Non-dimensional time"
   ]
  },
  {
   "cell_type": "markdown",
   "metadata": {},
   "source": [
    " Setting up a 2nd order finite difference matrix"
   ]
  },
  {
   "cell_type": "code",
   "execution_count": 58,
   "metadata": {},
   "outputs": [],
   "source": [
    "from scipy.sparse import spdiags"
   ]
  },
  {
   "cell_type": "code",
   "execution_count": 59,
   "metadata": {},
   "outputs": [],
   "source": [
    "N_pt = equi.shape[0]  # Number of points in the time series\n",
    "dt = t[1] - t[0]\n",
    "I  = spdiags(np.array([[0],[0],[0],[0],[0], [1],[0],[0],[0],[0],[0]]) @ np.ones((1,N_pt)) , np.array([0,1,2,3,4,5,6,7,8,9,10]), m = N_pt - 10, n = N_pt)\n",
    "D1 = spdiags(np.array([[-1/1260], [5/504], [-5/84], [5/21], [-5/6], [0], [5/6], [-5/21], [5/84], [-5/504], [1/1260]]) @ np.ones((1,N_pt)) / dt, np.array([0,1,2,3,4,5,6,7,8,9,10]), m = N_pt - 10, n = N_pt)"
   ]
  },
  {
   "cell_type": "markdown",
   "metadata": {},
   "source": [
    " Applying to equinoctial elements"
   ]
  },
  {
   "cell_type": "code",
   "execution_count": 60,
   "metadata": {},
   "outputs": [],
   "source": [
    "d_equi_dt = D1 @ equi # Time derivative of equinoctial elements \n",
    "equi_ = I @ equi # The equinoctial elements value at the time point of the derivative"
   ]
  },
  {
   "cell_type": "markdown",
   "metadata": {},
   "source": [
    "The eqn. to transform  FR FS and FW into d (element)/ dt can be written as:\n",
    "\n",
    "    d (element)/ dt = A(element,mu) * F_RSW(element) + b(element,mu)\n",
    "\n",
    "The function A and b can be found in propagation.py\n",
    "(hint: look at EquinoctialPropagation.ipynb or KeplerianPropagation.ipynb to see how the derivatives are computed from FR FS and FW)!"
   ]
  },
  {
   "cell_type": "code",
   "execution_count": 61,
   "metadata": {},
   "outputs": [],
   "source": [
    "A_ = np.stack([RSW2equi_A(e, 1) for e in equi_])\n",
    "b_ = np.stack([RSW2equi_b(e, 1) for e in equi_])"
   ]
  },
  {
   "cell_type": "code",
   "execution_count": 62,
   "metadata": {},
   "outputs": [],
   "source": [
    "F_RSW_equi = np.array([\n",
    "    # np.linalg.pinv(A_[i]) @ (d_equi_dt[i] - b_[i])\n",
    "    np.linalg.lstsq(A_[i][:-1,...], d_equi_dt[i][:-1])[0]  # More efficient and stable than pinv\n",
    "    for i in range(A_.shape[0])\n",
    "])"
   ]
  },
  {
   "cell_type": "code",
   "execution_count": 63,
   "metadata": {},
   "outputs": [
    {
     "name": "stdout",
     "output_type": "stream",
     "text": [
      "F_RSW_equi shape: (17271, 3)\n",
      "equi_ shape: (17271, 6)\n",
      "d_equi_dt shape: (17271, 6)\n"
     ]
    }
   ],
   "source": [
    "print(\"F_RSW_equi shape:\", F_RSW_equi.shape) \n",
    "print(\"equi_ shape:\", equi_.shape)\n",
    "print(\"d_equi_dt shape:\", d_equi_dt.shape)"
   ]
  },
  {
   "cell_type": "code",
   "execution_count": 64,
   "metadata": {},
   "outputs": [],
   "source": [
    "FR_tar = F_RSW_equi[:,0] \n",
    "FS_tar = F_RSW_equi[:,1]\n",
    "FW_tar = F_RSW_equi[:,2]\n",
    "RHS_in = equi_ "
   ]
  },
  {
   "cell_type": "markdown",
   "metadata": {},
   "source": [
    "Calculate extra inputs from equi_ (midpoint equinoctial elements)"
   ]
  },
  {
   "cell_type": "code",
   "execution_count": 65,
   "metadata": {},
   "outputs": [],
   "source": [
    "p_ = equi_[:, 0]        \n",
    "f_ = equi_[:, 1]        \n",
    "g_ = equi_[:, 2]        \n",
    "h_ = equi_[:, 3]        \n",
    "k_ = equi_[:, 4]       \n",
    "L_ = equi_[:, 5]        "
   ]
  },
  {
   "cell_type": "markdown",
   "metadata": {},
   "source": [
    "While PySR can learn directly the formula for $F_R$, $F_S$, $F_W$ as function of ($p$,$f$,$g$,$h$,$k$,$L$), it is often more helpful to incorperate prior knowledge to aid the learning. \n",
    "\n",
    "Below codify a few functions of ($p$,$f$,$g$,$h$,$k$,$L$) that is going to be helpful."
   ]
  },
  {
   "cell_type": "code",
   "execution_count": 66,
   "metadata": {},
   "outputs": [],
   "source": [
    "s_ = 1 + h_**2 + k_**2  # s = 1 + h^2 + k^2 = sec^2(i/2)\n",
    "w_ = 1 + f_ * np.cos(L_) + g_ * np.sin(L_)  # w = 1 + f*cos(L) + g*sin(L)\n",
    "r_val_ = p_ / w_         # r = p / w"
   ]
  },
  {
   "cell_type": "code",
   "execution_count": 67,
   "metadata": {},
   "outputs": [],
   "source": [
    "sin_u_sin_i_ = 2 * (h_ * np.sin(L_) - k_ * np.cos(L_)) / s_      # sin(u)*sin(i)\n",
    "cos_u_sin_i_ = 2 * (h_ * np.cos(L_) + k_ * np.sin(L_)) / s_      # cos(u)*sin(i)\n",
    "cos_i_ = (1 - h_**2 - k_**2) / s_                                # cos(i)"
   ]
  },
  {
   "cell_type": "markdown",
   "metadata": {},
   "source": [
    "Stack all features together for PySR input"
   ]
  },
  {
   "cell_type": "code",
   "execution_count": null,
   "metadata": {},
   "outputs": [],
   "source": [
    "RHS_in = np.column_stack([\n",
    "    r_val_**(-4), sin_u_sin_i_,\n",
    "    cos_u_sin_i_, cos_i_\n",
    "])\n",
    "# You may also want to try a larger feature set, e.g.,\n",
    "# RHS_in = np.column_stack([p_, f_, g_, h_, k_, L_, s_, w_, r_val_, sin_u_sin_i_, cos_u_sin_i_, cos_i_, mu, Re])"
   ]
  },
  {
   "cell_type": "markdown",
   "metadata": {},
   "source": [
    "Set up PySR symbolic regression model parameters (control in one place)"
   ]
  },
  {
   "cell_type": "code",
   "execution_count": 69,
   "metadata": {},
   "outputs": [],
   "source": [
    "pysr_params = dict(\n",
    "    niterations=200,                      # Number of iterations for symbolic search\n",
    "    binary_operators=[\"+\",\"*\"], # Allowed binary operators\n",
    "    # unary_operators=[\"sin\", \"cos\", \"sqrt\"], # Allowed unary operators\n",
    "    populations=5,                        # Number of populations\n",
    "    population_size=50,                   # Population size per generation\n",
    "    maxsize=25,                            # Maximum expression size\n",
    "    maxdepth=4,                            # Maximum expression tree depth\n",
    ")"
   ]
  },
  {
   "cell_type": "markdown",
   "metadata": {},
   "source": [
    "Model for FR"
   ]
  },
  {
   "cell_type": "code",
   "execution_count": 70,
   "metadata": {},
   "outputs": [
    {
     "name": "stderr",
     "output_type": "stream",
     "text": [
      "/home/lloydfung/PythonEnv/PySR/lib/python3.13/site-packages/pysr/sr.py:2811: UserWarning: Note: it looks like you are running in Jupyter. The progress bar will be turned off.\n",
      "  warnings.warn(\n",
      "/home/lloydfung/PythonEnv/PySR/lib/python3.13/site-packages/pysr/sr.py:2265: UserWarning: Note: you are running with more than 10,000 datapoints. You should consider turning on batching (https://ai.damtp.cam.ac.uk/pysr/options/#batching). You should also reconsider if you need that many datapoints. Unless you have a large amount of noise (in which case you should smooth your dataset first), generally < 10,000 datapoints is enough to find a functional form with symbolic regression. More datapoints will lower the search speed.\n",
      "  warnings.warn(\n",
      "Compiling Julia backend...\n",
      "[ Info: Note: you are running with more than 10,000 datapoints. You should consider turning on batching (`options.batching`), and also if you need that many datapoints. Unless you have a large amount of noise (in which case you should smooth your dataset first), generally < 10,000 datapoints is enough to find a functional form.\n",
      "[ Info: Started!\n"
     ]
    },
    {
     "name": "stdout",
     "output_type": "stream",
     "text": [
      "\n",
      "Expressions evaluated per second: 2.680e+04\n",
      "Progress: 97 / 1000 total iterations (9.700%)\n",
      "════════════════════════════════════════════════════════════════════════════════════════════════════\n",
      "───────────────────────────────────────────────────────────────────────────────────────────────────\n",
      "Complexity  Loss       Score      Equation\n",
      "1           1.662e-02  0.000e+00  y = 0.032106\n",
      "3           9.595e-03  2.746e-01  y = x₀ * x₀\n",
      "5           4.248e-03  4.074e-01  y = (x₁ * x₀) * x₁\n",
      "7           1.557e-03  5.017e-01  y = (x₃ + 0.35538) * (x₀ * -12.17)\n",
      "9           9.613e-04  2.412e-01  y = (x₀ * -2.3923) * ((x₂ * x₂) + -0.54311)\n",
      "11          4.654e-05  1.514e+00  y = ((x₁ * x₁) + (x₃ * 0.91754)) * (x₀ * 2.6446)\n",
      "13          4.177e-05  5.412e-02  y = ((x₀ * 0.41114) + (x₀ * -2.3923)) * ((x₂ * x₂) + -0.54...\n",
      "                                      311)\n",
      "───────────────────────────────────────────────────────────────────────────────────────────────────\n",
      "════════════════════════════════════════════════════════════════════════════════════════════════════\n",
      "Press 'q' and then <enter> to stop execution early.\n",
      "\n",
      "Expressions evaluated per second: 2.920e+04\n",
      "Progress: 212 / 1000 total iterations (21.200%)\n",
      "════════════════════════════════════════════════════════════════════════════════════════════════════\n",
      "───────────────────────────────────────────────────────────────────────────────────────────────────\n",
      "Complexity  Loss       Score      Equation\n",
      "1           1.662e-02  0.000e+00  y = 0.032106\n",
      "3           9.595e-03  2.746e-01  y = x₀ * x₀\n",
      "5           4.248e-03  4.074e-01  y = (x₁ * x₀) * x₁\n",
      "7           1.557e-03  5.017e-01  y = (x₃ + 0.35538) * (x₀ * -12.17)\n",
      "9           9.613e-04  2.412e-01  y = (x₀ * -2.3923) * ((x₂ * x₂) + -0.54311)\n",
      "11          4.654e-05  1.514e+00  y = ((x₁ * x₁) + (x₃ * 0.91754)) * (x₀ * 2.6446)\n",
      "13          4.177e-05  5.412e-02  y = ((x₀ * 0.41114) + (x₀ * -2.3923)) * ((x₂ * x₂) + -0.54...\n",
      "                                      311)\n",
      "───────────────────────────────────────────────────────────────────────────────────────────────────\n",
      "════════════════════════════════════════════════════════════════════════════════════════════════════\n",
      "Press 'q' and then <enter> to stop execution early.\n",
      "\n",
      "Expressions evaluated per second: 3.040e+04\n",
      "Progress: 328 / 1000 total iterations (32.800%)\n",
      "════════════════════════════════════════════════════════════════════════════════════════════════════\n",
      "───────────────────────────────────────────────────────────────────────────────────────────────────\n",
      "Complexity  Loss       Score      Equation\n",
      "1           1.662e-02  0.000e+00  y = 0.032106\n",
      "3           9.595e-03  2.746e-01  y = x₀ * x₀\n",
      "5           4.248e-03  4.074e-01  y = (x₁ * x₀) * x₁\n",
      "7           1.120e-03  6.666e-01  y = ((x₃ * -12.167) + -4.4369) * x₀\n",
      "9           9.613e-04  7.633e-02  y = (x₀ * -2.3923) * ((x₂ * x₂) + -0.54311)\n",
      "11          4.654e-05  1.514e+00  y = ((x₁ * x₁) + (x₃ * 0.91754)) * (x₀ * 2.6446)\n",
      "13          4.177e-05  5.412e-02  y = ((x₀ * 0.41114) + (x₀ * -2.3923)) * ((x₂ * x₂) + -0.54...\n",
      "                                      311)\n",
      "───────────────────────────────────────────────────────────────────────────────────────────────────\n",
      "════════════════════════════════════════════════════════════════════════════════════════════════════\n",
      "Press 'q' and then <enter> to stop execution early.\n",
      "\n",
      "Expressions evaluated per second: 3.230e+04\n",
      "Progress: 461 / 1000 total iterations (46.100%)\n",
      "════════════════════════════════════════════════════════════════════════════════════════════════════\n",
      "───────────────────────────────────────────────────────────────────────────────────────────────────\n",
      "Complexity  Loss       Score      Equation\n",
      "1           1.662e-02  0.000e+00  y = 0.032106\n",
      "3           9.595e-03  2.746e-01  y = x₀ * x₀\n",
      "5           4.248e-03  4.074e-01  y = (x₁ * x₀) * x₁\n",
      "7           1.120e-03  6.666e-01  y = ((x₃ * -12.167) + -4.4369) * x₀\n",
      "9           3.935e-04  5.229e-01  y = ((x₁ * x₁) + x₃) * (x₀ * 2.6446)\n",
      "11          4.654e-05  1.067e+00  y = ((x₁ * x₁) + (x₃ * 0.91754)) * (x₀ * 2.6446)\n",
      "13          4.177e-05  5.412e-02  y = ((x₀ * 0.41114) + (x₀ * -2.3923)) * ((x₂ * x₂) + -0.54...\n",
      "                                      311)\n",
      "───────────────────────────────────────────────────────────────────────────────────────────────────\n",
      "════════════════════════════════════════════════════════════════════════════════════════════════════\n",
      "Press 'q' and then <enter> to stop execution early.\n",
      "\n",
      "Expressions evaluated per second: 3.500e+04\n",
      "Progress: 596 / 1000 total iterations (59.600%)\n",
      "════════════════════════════════════════════════════════════════════════════════════════════════════\n",
      "───────────────────────────────────────────────────────────────────────────────────────────────────\n",
      "Complexity  Loss       Score      Equation\n",
      "1           1.662e-02  0.000e+00  y = 0.032106\n",
      "3           9.595e-03  2.746e-01  y = x₀ * x₀\n",
      "5           4.248e-03  4.074e-01  y = (x₁ * x₀) * x₁\n",
      "7           1.120e-03  6.666e-01  y = ((x₃ * -12.167) + -4.4369) * x₀\n",
      "9           3.935e-04  5.229e-01  y = ((x₁ * x₁) + x₃) * (x₀ * 2.6446)\n",
      "11          4.654e-05  1.067e+00  y = ((x₁ * x₁) + (x₃ * 0.91754)) * (x₀ * 2.6446)\n",
      "13          4.473e-10  5.776e+00  y = ((x₀ * -0.75024) + 5.493e-06) + ((x₁ * 2.2504) * (x₀ *...\n",
      "                                       x₁))\n",
      "───────────────────────────────────────────────────────────────────────────────────────────────────\n",
      "════════════════════════════════════════════════════════════════════════════════════════════════════\n",
      "Press 'q' and then <enter> to stop execution early.\n",
      "\n",
      "Expressions evaluated per second: 3.580e+04\n",
      "Progress: 714 / 1000 total iterations (71.400%)\n",
      "════════════════════════════════════════════════════════════════════════════════════════════════════\n",
      "───────────────────────────────────────────────────────────────────────────────────────────────────\n",
      "Complexity  Loss       Score      Equation\n",
      "1           1.662e-02  0.000e+00  y = 0.032106\n",
      "3           9.595e-03  2.746e-01  y = x₀ * x₀\n",
      "5           4.248e-03  4.074e-01  y = (x₁ * x₀) * x₁\n",
      "7           1.120e-03  6.666e-01  y = ((x₃ * -12.167) + -4.4369) * x₀\n",
      "9           3.935e-04  5.229e-01  y = ((x₁ * x₁) + x₃) * (x₀ * 2.6446)\n",
      "11          4.786e-10  6.810e+00  y = (x₀ * -0.75024) + ((x₁ * 2.2504) * (x₀ * x₁))\n",
      "13          4.473e-10  3.378e-02  y = ((x₀ * -0.75024) + 5.493e-06) + ((x₁ * 2.2504) * (x₀ *...\n",
      "                                       x₁))\n",
      "15          2.541e-15  6.039e+00  y = ((x₁ * 2.25) * (x₁ * x₀)) + ((x₀ * -0.68297) + (x₀ * -...\n",
      "                                      0.067029))\n",
      "───────────────────────────────────────────────────────────────────────────────────────────────────\n",
      "════════════════════════════════════════════════════════════════════════════════════════════════════\n",
      "Press 'q' and then <enter> to stop execution early.\n",
      "\n",
      "Expressions evaluated per second: 3.710e+04\n",
      "Progress: 846 / 1000 total iterations (84.600%)\n",
      "════════════════════════════════════════════════════════════════════════════════════════════════════\n",
      "───────────────────────────────────────────────────────────────────────────────────────────────────\n",
      "Complexity  Loss       Score      Equation\n",
      "1           1.662e-02  0.000e+00  y = 0.032106\n",
      "3           9.595e-03  2.746e-01  y = x₀ * x₀\n",
      "5           4.248e-03  4.074e-01  y = (x₁ * x₀) * x₁\n",
      "7           1.120e-03  6.666e-01  y = ((x₃ * -12.167) + -4.4369) * x₀\n",
      "9           3.935e-04  5.229e-01  y = ((x₁ * x₁) + x₃) * (x₀ * 2.6446)\n",
      "11          4.786e-10  6.810e+00  y = (x₀ * -0.75024) + ((x₁ * 2.2504) * (x₀ * x₁))\n",
      "13          2.488e-15  6.084e+00  y = ((x₀ * -0.75) + 3.6969e-09) + ((x₁ * x₀) * (x₁ * 2.25)...\n",
      "                                      )\n",
      "───────────────────────────────────────────────────────────────────────────────────────────────────\n",
      "════════════════════════════════════════════════════════════════════════════════════════════════════\n",
      "Press 'q' and then <enter> to stop execution early.\n",
      "\n",
      "Expressions evaluated per second: 3.700e+04\n",
      "Progress: 975 / 1000 total iterations (97.500%)\n",
      "════════════════════════════════════════════════════════════════════════════════════════════════════\n",
      "───────────────────────────────────────────────────────────────────────────────────────────────────\n",
      "Complexity  Loss       Score      Equation\n",
      "1           1.662e-02  0.000e+00  y = 0.032106\n",
      "3           9.595e-03  2.746e-01  y = x₀ * x₀\n",
      "5           4.248e-03  4.074e-01  y = (x₁ * x₀) * x₁\n",
      "7           1.120e-03  6.666e-01  y = ((x₃ * -12.167) + -4.4369) * x₀\n",
      "9           3.935e-04  5.229e-01  y = ((x₁ * x₁) + x₃) * (x₀ * 2.6446)\n",
      "11          2.489e-15  1.289e+01  y = (x₀ * -0.75) + ((x₁ * x₀) * (x₁ * 2.25))\n",
      "13          2.488e-15  2.524e-04  y = ((x₀ * -0.75) + 3.6969e-09) + ((x₁ * x₀) * (x₁ * 2.25)...\n",
      "                                      )\n",
      "───────────────────────────────────────────────────────────────────────────────────────────────────\n",
      "════════════════════════════════════════════════════════════════════════════════════════════════════\n",
      "Press 'q' and then <enter> to stop execution early.\n",
      "───────────────────────────────────────────────────────────────────────────────────────────────────\n",
      "Complexity  Loss       Score      Equation\n",
      "1           1.662e-02  0.000e+00  y = 0.032106\n",
      "3           9.595e-03  2.746e-01  y = x₀ * x₀\n",
      "5           4.248e-03  4.074e-01  y = (x₁ * x₀) * x₁\n",
      "7           1.120e-03  6.666e-01  y = ((x₃ * -12.167) + -4.4369) * x₀\n",
      "9           3.935e-04  5.229e-01  y = ((x₁ * x₁) + x₃) * (x₀ * 2.6446)\n",
      "11          2.489e-15  1.289e+01  y = (x₀ * -0.75) + ((x₁ * x₀) * (x₁ * 2.25))\n",
      "13          2.488e-15  2.524e-04  y = ((x₀ * -0.75) + 3.6969e-09) + ((x₁ * x₀) * (x₁ * 2.25)...\n",
      "                                      )\n",
      "───────────────────────────────────────────────────────────────────────────────────────────────────\n"
     ]
    },
    {
     "name": "stderr",
     "output_type": "stream",
     "text": [
      "[ Info: Final population:\n",
      "[ Info: Results saved to:\n"
     ]
    },
    {
     "name": "stdout",
     "output_type": "stream",
     "text": [
      "Best equations for FR:\n",
      "PySRRegressor.equations_ = [\n",
      "\t   pick      score                                           equation  \\\n",
      "\t0         0.000000                                         0.03210611   \n",
      "\t1         0.274561                                            x0 * x0   \n",
      "\t2         0.407405                                     (x1 * x0) * x1   \n",
      "\t3         0.666627               ((x3 * -12.167491) + -4.436855) * x0   \n",
      "\t4         0.522903                ((x1 * x1) + x3) * (x0 * 2.6445718)   \n",
      "\t5  >>>>  12.893233           (x0 * -0.75) + ((x1 * x0) * (x1 * 2.25))   \n",
      "\t6         0.000252  ((x0 * -0.75) + 3.696897e-9) + ((x1 * x0) * (x...   \n",
      "\t\n",
      "\t           loss  complexity  \n",
      "\t0  1.661541e-02           1  \n",
      "\t1  9.594684e-03           3  \n",
      "\t2  4.247793e-03           5  \n",
      "\t3  1.119795e-03           7  \n",
      "\t4  3.935053e-04           9  \n",
      "\t5  2.489033e-15          11  \n",
      "\t6  2.487776e-15          13  \n",
      "]\n",
      "  - outputs/20250924_164928_cKYzBW/hall_of_fame.csv\n"
     ]
    }
   ],
   "source": [
    "model_FR = pysr.PySRRegressor(**pysr_params)\n",
    "model_FR.fit(RHS_in, FR_tar)\n",
    "print(\"Best equations for FR:\")\n",
    "print(model_FR)"
   ]
  },
  {
   "cell_type": "markdown",
   "metadata": {},
   "source": [
    "Model for FS"
   ]
  },
  {
   "cell_type": "code",
   "execution_count": 71,
   "metadata": {},
   "outputs": [
    {
     "name": "stderr",
     "output_type": "stream",
     "text": [
      "/home/lloydfung/PythonEnv/PySR/lib/python3.13/site-packages/pysr/sr.py:2811: UserWarning: Note: it looks like you are running in Jupyter. The progress bar will be turned off.\n",
      "  warnings.warn(\n",
      "/home/lloydfung/PythonEnv/PySR/lib/python3.13/site-packages/pysr/sr.py:2265: UserWarning: Note: you are running with more than 10,000 datapoints. You should consider turning on batching (https://ai.damtp.cam.ac.uk/pysr/options/#batching). You should also reconsider if you need that many datapoints. Unless you have a large amount of noise (in which case you should smooth your dataset first), generally < 10,000 datapoints is enough to find a functional form with symbolic regression. More datapoints will lower the search speed.\n",
      "  warnings.warn(\n",
      "[ Info: Note: you are running with more than 10,000 datapoints. You should consider turning on batching (`options.batching`), and also if you need that many datapoints. Unless you have a large amount of noise (in which case you should smooth your dataset first), generally < 10,000 datapoints is enough to find a functional form.\n",
      "[ Info: Started!\n"
     ]
    },
    {
     "name": "stdout",
     "output_type": "stream",
     "text": [
      "\n",
      "Expressions evaluated per second: 3.780e+04\n",
      "Progress: 130 / 1000 total iterations (13.000%)\n",
      "════════════════════════════════════════════════════════════════════════════════════════════════════\n",
      "───────────────────────────────────────────────────────────────────────────────────────────────────\n",
      "Complexity  Loss       Score      Equation\n",
      "1           6.858e-03  0.000e+00  y = -0.00010568\n",
      "3           6.847e-03  7.743e-04  y = x₂ * 0.0049519\n",
      "5           3.713e-03  3.060e-01  y = (x₂ * x₁) * -0.18369\n",
      "7           1.516e-16  1.541e+01  y = (x₀ * (x₁ * x₂)) * -1.5\n",
      "───────────────────────────────────────────────────────────────────────────────────────────────────\n",
      "════════════════════════════════════════════════════════════════════════════════════════════════════\n",
      "Press 'q' and then <enter> to stop execution early.\n",
      "\n",
      "Expressions evaluated per second: 3.800e+04\n",
      "Progress: 267 / 1000 total iterations (26.700%)\n",
      "════════════════════════════════════════════════════════════════════════════════════════════════════\n",
      "───────────────────────────────────────────────────────────────────────────────────────────────────\n",
      "Complexity  Loss       Score      Equation\n",
      "1           6.858e-03  0.000e+00  y = -0.00010568\n",
      "3           6.847e-03  7.743e-04  y = x₂ * 0.0049519\n",
      "5           3.713e-03  3.060e-01  y = (x₂ * x₁) * -0.18369\n",
      "7           1.516e-16  1.541e+01  y = (x₀ * (x₁ * x₂)) * -1.5\n",
      "───────────────────────────────────────────────────────────────────────────────────────────────────\n",
      "════════════════════════════════════════════════════════════════════════════════════════════════════\n",
      "Press 'q' and then <enter> to stop execution early.\n",
      "\n",
      "Expressions evaluated per second: 3.840e+04\n",
      "Progress: 396 / 1000 total iterations (39.600%)\n",
      "════════════════════════════════════════════════════════════════════════════════════════════════════\n",
      "───────────────────────────────────────────────────────────────────────────────────────────────────\n",
      "Complexity  Loss       Score      Equation\n",
      "1           6.858e-03  0.000e+00  y = -0.00010568\n",
      "3           6.847e-03  7.743e-04  y = x₂ * 0.0049519\n",
      "5           3.713e-03  3.060e-01  y = (x₂ * x₁) * -0.18369\n",
      "7           1.516e-16  1.541e+01  y = (x₀ * (x₁ * x₂)) * -1.5\n",
      "15          1.499e-16  1.458e-03  y = ((x₁ * -1.2265) * (x₀ * x₂)) + ((x₁ * x₀) * (x₂ * -0.2...\n",
      "                                      7352))\n",
      "───────────────────────────────────────────────────────────────────────────────────────────────────\n",
      "════════════════════════════════════════════════════════════════════════════════════════════════════\n",
      "Press 'q' and then <enter> to stop execution early.\n",
      "\n",
      "Expressions evaluated per second: 3.810e+04\n",
      "Progress: 524 / 1000 total iterations (52.400%)\n",
      "════════════════════════════════════════════════════════════════════════════════════════════════════\n",
      "───────────────────────────────────────────────────────────────────────────────────────────────────\n",
      "Complexity  Loss       Score      Equation\n",
      "1           6.858e-03  0.000e+00  y = -0.00010568\n",
      "3           6.847e-03  7.743e-04  y = x₂ * 0.0049519\n",
      "5           3.713e-03  3.060e-01  y = (x₂ * x₁) * -0.18369\n",
      "7           1.516e-16  1.541e+01  y = (x₀ * (x₁ * x₂)) * -1.5\n",
      "15          1.499e-16  1.458e-03  y = ((x₁ * -1.2265) * (x₀ * x₂)) + ((x₁ * x₀) * (x₂ * -0.2...\n",
      "                                      7352))\n",
      "───────────────────────────────────────────────────────────────────────────────────────────────────\n",
      "════════════════════════════════════════════════════════════════════════════════════════════════════\n",
      "Press 'q' and then <enter> to stop execution early.\n",
      "\n",
      "Expressions evaluated per second: 3.730e+04\n",
      "Progress: 645 / 1000 total iterations (64.500%)\n",
      "════════════════════════════════════════════════════════════════════════════════════════════════════\n",
      "───────────────────────────────────────────────────────────────────────────────────────────────────\n",
      "Complexity  Loss       Score      Equation\n",
      "1           6.858e-03  0.000e+00  y = -0.00010568\n",
      "3           6.847e-03  7.743e-04  y = x₂ * 0.0049519\n",
      "5           3.713e-03  3.060e-01  y = (x₂ * x₁) * -0.18369\n",
      "7           1.516e-16  1.541e+01  y = (x₀ * (x₁ * x₂)) * -1.5\n",
      "15          1.499e-16  1.458e-03  y = ((x₁ * -1.2265) * (x₀ * x₂)) + ((x₁ * x₀) * (x₂ * -0.2...\n",
      "                                      7352))\n",
      "───────────────────────────────────────────────────────────────────────────────────────────────────\n",
      "════════════════════════════════════════════════════════════════════════════════════════════════════\n",
      "Press 'q' and then <enter> to stop execution early.\n",
      "\n",
      "Expressions evaluated per second: 3.740e+04\n",
      "Progress: 769 / 1000 total iterations (76.900%)\n",
      "════════════════════════════════════════════════════════════════════════════════════════════════════\n",
      "───────────────────────────────────────────────────────────────────────────────────────────────────\n",
      "Complexity  Loss       Score      Equation\n",
      "1           6.858e-03  0.000e+00  y = -0.00010568\n",
      "3           6.847e-03  7.743e-04  y = x₂ * 0.0049519\n",
      "5           3.713e-03  3.060e-01  y = (x₂ * x₁) * -0.18369\n",
      "7           1.516e-16  1.541e+01  y = (x₀ * (x₁ * x₂)) * -1.5\n",
      "15          1.499e-16  1.458e-03  y = ((x₁ * -1.2265) * (x₀ * x₂)) + ((x₁ * x₀) * (x₂ * -0.2...\n",
      "                                      7352))\n",
      "───────────────────────────────────────────────────────────────────────────────────────────────────\n",
      "════════════════════════════════════════════════════════════════════════════════════════════════════\n",
      "Press 'q' and then <enter> to stop execution early.\n"
     ]
    },
    {
     "name": "stderr",
     "output_type": "stream",
     "text": [
      "[ Info: Final population:\n",
      "[ Info: Results saved to:\n"
     ]
    },
    {
     "name": "stdout",
     "output_type": "stream",
     "text": [
      "\n",
      "Expressions evaluated per second: 3.620e+04\n",
      "Progress: 884 / 1000 total iterations (88.400%)\n",
      "════════════════════════════════════════════════════════════════════════════════════════════════════\n",
      "───────────────────────────────────────────────────────────────────────────────────────────────────\n",
      "Complexity  Loss       Score      Equation\n",
      "1           6.858e-03  0.000e+00  y = -0.00010568\n",
      "3           6.847e-03  7.743e-04  y = x₂ * 0.0049519\n",
      "5           3.713e-03  3.060e-01  y = (x₂ * x₁) * -0.18369\n",
      "7           1.516e-16  1.541e+01  y = (x₀ * (x₁ * x₂)) * -1.5\n",
      "15          1.499e-16  1.458e-03  y = ((x₁ * -1.2265) * (x₀ * x₂)) + ((x₁ * x₀) * (x₂ * -0.2...\n",
      "                                      7352))\n",
      "───────────────────────────────────────────────────────────────────────────────────────────────────\n",
      "════════════════════════════════════════════════════════════════════════════════════════════════════\n",
      "Press 'q' and then <enter> to stop execution early.\n",
      "\n",
      "Expressions evaluated per second: 3.500e+04\n",
      "Progress: 999 / 1000 total iterations (99.900%)\n",
      "════════════════════════════════════════════════════════════════════════════════════════════════════\n",
      "───────────────────────────────────────────────────────────────────────────────────────────────────\n",
      "Complexity  Loss       Score      Equation\n",
      "1           6.858e-03  0.000e+00  y = -0.00010568\n",
      "3           6.847e-03  7.743e-04  y = x₂ * 0.0049519\n",
      "5           3.713e-03  3.060e-01  y = (x₂ * x₁) * -0.18369\n",
      "7           1.516e-16  1.541e+01  y = (x₀ * (x₁ * x₂)) * -1.5\n",
      "15          1.499e-16  1.458e-03  y = ((x₁ * -1.2265) * (x₀ * x₂)) + ((x₁ * x₀) * (x₂ * -0.2...\n",
      "                                      7352))\n",
      "───────────────────────────────────────────────────────────────────────────────────────────────────\n",
      "════════════════════════════════════════════════════════════════════════════════════════════════════\n",
      "Press 'q' and then <enter> to stop execution early.\n",
      "───────────────────────────────────────────────────────────────────────────────────────────────────\n",
      "Complexity  Loss       Score      Equation\n",
      "1           6.858e-03  0.000e+00  y = -0.00010568\n",
      "3           6.847e-03  7.743e-04  y = x₂ * 0.0049519\n",
      "5           3.713e-03  3.060e-01  y = (x₂ * x₁) * -0.18369\n",
      "7           1.516e-16  1.541e+01  y = (x₀ * (x₁ * x₂)) * -1.5\n",
      "15          1.499e-16  1.458e-03  y = ((x₁ * -1.2265) * (x₀ * x₂)) + ((x₁ * x₀) * (x₂ * -0.2...\n",
      "                                      7352))\n",
      "───────────────────────────────────────────────────────────────────────────────────────────────────\n",
      "Best equations for FS:\n",
      "PySRRegressor.equations_ = [\n",
      "\t   pick      score                                           equation  \\\n",
      "\t0         0.000000                                    -0.000105675506   \n",
      "\t1         0.000774                                  x2 * 0.0049519246   \n",
      "\t2         0.305967                             (x2 * x1) * -0.1836868   \n",
      "\t3  >>>>  15.414595                            (x0 * (x1 * x2)) * -1.5   \n",
      "\t4         0.001458  ((x1 * -1.2264751) * (x0 * x2)) + ((x1 * x0) *...   \n",
      "\t\n",
      "\t           loss  complexity  \n",
      "\t0  6.857585e-03           1  \n",
      "\t1  6.846973e-03           3  \n",
      "\t2  3.713123e-03           5  \n",
      "\t3  1.516325e-16           7  \n",
      "\t4  1.498737e-16          15  \n",
      "]\n",
      "  - outputs/20250924_165017_JBprdy/hall_of_fame.csv\n"
     ]
    }
   ],
   "source": [
    "model_FS = pysr.PySRRegressor(**pysr_params)\n",
    "model_FS.fit(RHS_in, FS_tar)\n",
    "print(\"Best equations for FS:\")\n",
    "print(model_FS)"
   ]
  },
  {
   "cell_type": "markdown",
   "metadata": {},
   "source": [
    "Model for FW"
   ]
  },
  {
   "cell_type": "code",
   "execution_count": 72,
   "metadata": {},
   "outputs": [
    {
     "name": "stderr",
     "output_type": "stream",
     "text": [
      "/home/lloydfung/PythonEnv/PySR/lib/python3.13/site-packages/pysr/sr.py:2811: UserWarning: Note: it looks like you are running in Jupyter. The progress bar will be turned off.\n",
      "  warnings.warn(\n",
      "/home/lloydfung/PythonEnv/PySR/lib/python3.13/site-packages/pysr/sr.py:2265: UserWarning: Note: you are running with more than 10,000 datapoints. You should consider turning on batching (https://ai.damtp.cam.ac.uk/pysr/options/#batching). You should also reconsider if you need that many datapoints. Unless you have a large amount of noise (in which case you should smooth your dataset first), generally < 10,000 datapoints is enough to find a functional form with symbolic regression. More datapoints will lower the search speed.\n",
      "  warnings.warn(\n",
      "[ Info: Note: you are running with more than 10,000 datapoints. You should consider turning on batching (`options.batching`), and also if you need that many datapoints. Unless you have a large amount of noise (in which case you should smooth your dataset first), generally < 10,000 datapoints is enough to find a functional form.\n",
      "[ Info: Started!\n"
     ]
    },
    {
     "name": "stdout",
     "output_type": "stream",
     "text": [
      "\n",
      "Expressions evaluated per second: 3.510e+04\n",
      "Progress: 123 / 1000 total iterations (12.300%)\n",
      "════════════════════════════════════════════════════════════════════════════════════════════════════\n",
      "───────────────────────────────────────────────────────────────────────────────────────────────────\n",
      "Complexity  Loss       Score      Equation\n",
      "1           6.979e-03  0.000e+00  y = -0.0045701\n",
      "3           2.433e-03  5.268e-01  y = x₁ * x₀\n",
      "5           4.906e-05  1.952e+00  y = x₀ * (x₁ * 0.63064)\n",
      "7           2.571e-16  1.299e+01  y = ((x₃ * x₀) * x₁) * -1.5\n",
      "───────────────────────────────────────────────────────────────────────────────────────────────────\n",
      "════════════════════════════════════════════════════════════════════════════════════════════════════\n",
      "Press 'q' and then <enter> to stop execution early.\n",
      "\n",
      "Expressions evaluated per second: 3.500e+04\n",
      "Progress: 253 / 1000 total iterations (25.300%)\n",
      "════════════════════════════════════════════════════════════════════════════════════════════════════\n",
      "───────────────────────────────────────────────────────────────────────────────────────────────────\n",
      "Complexity  Loss       Score      Equation\n",
      "1           6.979e-03  0.000e+00  y = -0.0045701\n",
      "3           2.433e-03  5.268e-01  y = x₁ * x₀\n",
      "5           4.906e-05  1.952e+00  y = x₀ * (x₁ * 0.63064)\n",
      "7           2.571e-16  1.299e+01  y = ((x₃ * x₀) * x₁) * -1.5\n",
      "───────────────────────────────────────────────────────────────────────────────────────────────────\n",
      "════════════════════════════════════════════════════════════════════════════════════════════════════\n",
      "Press 'q' and then <enter> to stop execution early.\n",
      "\n",
      "Expressions evaluated per second: 3.460e+04\n",
      "Progress: 378 / 1000 total iterations (37.800%)\n",
      "════════════════════════════════════════════════════════════════════════════════════════════════════\n",
      "───────────────────────────────────────────────────────────────────────────────────────────────────\n",
      "Complexity  Loss       Score      Equation\n",
      "1           6.979e-03  0.000e+00  y = -0.0045701\n",
      "3           2.433e-03  5.268e-01  y = x₁ * x₀\n",
      "5           4.906e-05  1.952e+00  y = x₀ * (x₁ * 0.63064)\n",
      "7           2.571e-16  1.299e+01  y = ((x₃ * x₀) * x₁) * -1.5\n",
      "───────────────────────────────────────────────────────────────────────────────────────────────────\n",
      "════════════════════════════════════════════════════════════════════════════════════════════════════\n",
      "Press 'q' and then <enter> to stop execution early.\n",
      "\n",
      "Expressions evaluated per second: 3.520e+04\n",
      "Progress: 507 / 1000 total iterations (50.700%)\n",
      "════════════════════════════════════════════════════════════════════════════════════════════════════\n",
      "───────────────────────────────────────────────────────────────────────────────────────────────────\n",
      "Complexity  Loss       Score      Equation\n",
      "1           6.979e-03  0.000e+00  y = -0.0045701\n",
      "3           2.433e-03  5.268e-01  y = x₁ * x₀\n",
      "5           4.906e-05  1.952e+00  y = x₀ * (x₁ * 0.63064)\n",
      "7           2.571e-16  1.299e+01  y = ((x₃ * x₀) * x₁) * -1.5\n",
      "───────────────────────────────────────────────────────────────────────────────────────────────────\n",
      "════════════════════════════════════════════════════════════════════════════════════════════════════\n",
      "Press 'q' and then <enter> to stop execution early.\n",
      "\n",
      "Expressions evaluated per second: 3.620e+04\n",
      "Progress: 640 / 1000 total iterations (64.000%)\n",
      "════════════════════════════════════════════════════════════════════════════════════════════════════\n",
      "───────────────────────────────────────────────────────────────────────────────────────────────────\n",
      "Complexity  Loss       Score      Equation\n",
      "1           6.979e-03  0.000e+00  y = -0.0045701\n",
      "3           2.433e-03  5.268e-01  y = x₁ * x₀\n",
      "5           4.906e-05  1.952e+00  y = x₀ * (x₁ * 0.63064)\n",
      "7           2.571e-16  1.299e+01  y = ((x₃ * x₀) * x₁) * -1.5\n",
      "───────────────────────────────────────────────────────────────────────────────────────────────────\n",
      "════════════════════════════════════════════════════════════════════════════════════════════════════\n",
      "Press 'q' and then <enter> to stop execution early.\n",
      "\n",
      "Expressions evaluated per second: 3.660e+04\n",
      "Progress: 765 / 1000 total iterations (76.500%)\n",
      "════════════════════════════════════════════════════════════════════════════════════════════════════\n",
      "───────────────────────────────────────────────────────────────────────────────────────────────────\n",
      "Complexity  Loss       Score      Equation\n",
      "1           6.979e-03  0.000e+00  y = -0.0045701\n",
      "3           2.433e-03  5.268e-01  y = x₁ * x₀\n",
      "5           4.906e-05  1.952e+00  y = x₀ * (x₁ * 0.63064)\n",
      "7           2.571e-16  1.299e+01  y = ((x₃ * x₀) * x₁) * -1.5\n",
      "───────────────────────────────────────────────────────────────────────────────────────────────────\n",
      "════════════════════════════════════════════════════════════════════════════════════════════════════\n",
      "Press 'q' and then <enter> to stop execution early.\n",
      "\n",
      "Expressions evaluated per second: 3.700e+04\n",
      "Progress: 891 / 1000 total iterations (89.100%)\n",
      "════════════════════════════════════════════════════════════════════════════════════════════════════\n",
      "───────────────────────────────────────────────────────────────────────────────────────────────────\n",
      "Complexity  Loss       Score      Equation\n",
      "1           6.979e-03  0.000e+00  y = -0.0045701\n",
      "3           2.433e-03  5.268e-01  y = x₁ * x₀\n",
      "5           4.906e-05  1.952e+00  y = x₀ * (x₁ * 0.63064)\n",
      "7           2.571e-16  1.299e+01  y = ((x₃ * x₀) * x₁) * -1.5\n",
      "───────────────────────────────────────────────────────────────────────────────────────────────────\n",
      "════════════════════════════════════════════════════════════════════════════════════════════════════\n",
      "Press 'q' and then <enter> to stop execution early.\n"
     ]
    },
    {
     "name": "stderr",
     "output_type": "stream",
     "text": [
      "[ Info: Final population:\n",
      "[ Info: Results saved to:\n"
     ]
    },
    {
     "name": "stdout",
     "output_type": "stream",
     "text": [
      "───────────────────────────────────────────────────────────────────────────────────────────────────\n",
      "Complexity  Loss       Score      Equation\n",
      "1           6.979e-03  0.000e+00  y = -0.0045701\n",
      "3           2.433e-03  5.268e-01  y = x₁ * x₀\n",
      "5           4.906e-05  1.952e+00  y = x₀ * (x₁ * 0.63064)\n",
      "7           2.571e-16  1.299e+01  y = ((x₃ * x₀) * x₁) * -1.5\n",
      "───────────────────────────────────────────────────────────────────────────────────────────────────\n",
      "Best equations for FW:\n",
      "PySRRegressor.equations_ = [\n",
      "\t   pick      score                 equation          loss  complexity\n",
      "\t0         0.000000            -0.0045700823  6.978936e-03           1\n",
      "\t1         0.526796                  x1 * x0  2.433437e-03           3\n",
      "\t2         1.952038    x0 * (x1 * 0.6306385)  4.905707e-05           5\n",
      "\t3  >>>>  12.987334  ((x3 * x0) * x1) * -1.5  2.570671e-16           7\n",
      "]\n",
      "  - outputs/20250924_165058_ZVzksr/hall_of_fame.csv\n"
     ]
    }
   ],
   "source": [
    "model_FW = pysr.PySRRegressor(**pysr_params)\n",
    "model_FW.fit(RHS_in, FW_tar)\n",
    "print(\"Best equations for FW:\")\n",
    "print(model_FW)"
   ]
  },
  {
   "cell_type": "markdown",
   "metadata": {},
   "source": [
    "Save trained models for later use"
   ]
  },
  {
   "cell_type": "code",
   "execution_count": null,
   "metadata": {},
   "outputs": [],
   "source": [
    "with open(\"PySRmodel_FR.pkl\", \"wb\") as f:\n",
    "    pickle.dump(model_FR, f)\n",
    "with open(\"PySRmodel_FS.pkl\", \"wb\") as f:\n",
    "    pickle.dump(model_FS, f)\n",
    "with open(\"PySRmodel_FW.pkl\", \"wb\") as f:\n",
    "    pickle.dump(model_FW, f)"
   ]
  },
  {
   "cell_type": "markdown",
   "metadata": {},
   "source": [
    "To propagate the model and compare the result with the correct answer, we can open the above saved models in the `EquinoctialPropagation.ipynb` and propagate the learnt model."
   ]
  }
 ],
 "metadata": {
  "kernelspec": {
   "display_name": "PySR",
   "language": "python",
   "name": "python3"
  },
  "language_info": {
   "codemirror_mode": {
    "name": "ipython",
    "version": 3
   },
   "file_extension": ".py",
   "mimetype": "text/x-python",
   "name": "python",
   "nbconvert_exporter": "python",
   "pygments_lexer": "ipython3",
   "version": "3.13.3"
  }
 },
 "nbformat": 4,
 "nbformat_minor": 2
}
