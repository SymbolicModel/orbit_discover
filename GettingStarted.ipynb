{
 "cells": [
  {
   "cell_type": "markdown",
   "id": "d9ee452f",
   "metadata": {},
   "source": [
    "# Getting Started"
   ]
  },
  {
   "cell_type": "code",
   "execution_count": null,
   "id": "192d6953",
   "metadata": {},
   "outputs": [],
   "source": [
    "## Install the required packages in case you have not already installed it\n",
    "# (In case you cannot find the environment you've created in another folder, try copying the whole .venv folder to this current directory)\n",
    "!pip install numpy scipy pysr pysindy pandas matplotlib notebook"
   ]
  },
  {
   "cell_type": "code",
   "execution_count": null,
   "id": "996666b8",
   "metadata": {},
   "outputs": [
    {
     "name": "stdout",
     "output_type": "stream",
     "text": [
      "All packages imported successfully!\n"
     ]
    }
   ],
   "source": [
    "import numpy as np\n",
    "import pandas as pd\n",
    "\n",
    "import matplotlib.pyplot as plt\n",
    "\n",
    "from src.utils import *\n",
    "\n",
    "## Uncomment the following lines if you want to use PySINDy or PySR\n",
    "# import pysindy as ps\n",
    "# from pysr import PySRRegressor\n",
    "\n",
    "print(\"All packages imported successfully!\")"
   ]
  },
  {
   "cell_type": "markdown",
   "id": "7c5e4628",
   "metadata": {},
   "source": [
    "## Importing trajectories\n",
    "\n",
    "The trajectory measured usually comes in csv file.\n",
    "- First column represent time\n",
    "- Next three column represents the cartesian coordinate (relative to earth) of the satalite's position (in m)\n",
    "- Last three column represents the velocity (in m/s)\n",
    "- Each row is data taken in each time point"
   ]
  },
  {
   "cell_type": "markdown",
   "id": "c254d95c",
   "metadata": {},
   "source": [
    "Let's start by importing the file"
   ]
  },
  {
   "cell_type": "code",
   "execution_count": 2,
   "id": "811c7850",
   "metadata": {
    "vscode": {
     "languageId": "ruby"
    }
   },
   "outputs": [],
   "source": [
    "# Load the CSV file with correct column extraction\n",
    "# Assuming the first column is time, next three are position (r1, r2, r3), last three are velocity (v1, v2, v3)\n",
    "df = pd.read_csv('./data/Challenge1.csv', header=0, usecols=[0,1,2,3,4,5,6], names=['time','r1', 'r2', 'r3', 'v1', 'v2', 'v3'])\n",
    "\n",
    "# Extract position and velocity arrays\n",
    "# Convert time strings to pandas datetime\n",
    "t_raw = pd.to_datetime(df['time'])\n",
    "# Calculate seconds relative to the first time point\n",
    "t = (t_raw - t_raw.iloc[0]).dt.total_seconds().values # Time in seconds relative to first time point\n",
    "r = df[['r1', 'r2', 'r3']].values\n",
    "v = df[['v1', 'v2', 'v3']].values"
   ]
  },
  {
   "cell_type": "markdown",
   "id": "706ea091",
   "metadata": {},
   "source": [
    "## Convert between Cartesian Coordinate, Keplarian Elements and Equinoctial Elements\n",
    "\n",
    "Any conversion between Cartesian $\\mathbf{r}$ and $\\mathbf{v}$ requires also the knowledge of the gravitational constant `mu`."
   ]
  },
  {
   "cell_type": "code",
   "execution_count": null,
   "id": "f6c3ffb1",
   "metadata": {},
   "outputs": [],
   "source": [
    "mu = 3.986004414498200e14  # Central Body's gravitational constant (m^3/s^2) - from parameter.csv\n",
    "Re = 6.378136460000000e6  # Central Body's equatorial radius (m) - from parameter.csv"
   ]
  },
  {
   "cell_type": "markdown",
   "id": "738f5a87",
   "metadata": {},
   "source": [
    "To convert it to Keplerian Elements"
   ]
  },
  {
   "cell_type": "code",
   "execution_count": null,
   "id": "f151c815",
   "metadata": {},
   "outputs": [],
   "source": [
    "kepl = ijk2keplerian(r,v,mu)\n",
    "\n",
    "# To extract the individual elements\n",
    "a = kepl[..., 0]        # a: semi-major axis \n",
    "e = kepl[..., 1]        # e: eccentricity \n",
    "incl = kepl[..., 2]     # incl: inclination \n",
    "raan = kepl[..., 3]     # raan: right ascension of ascending node \n",
    "argp = kepl[..., 4]     # argp: argument of perigee \n",
    "nu = kepl[..., 5]       # nu: true anomaly \n"
   ]
  },
  {
   "cell_type": "markdown",
   "id": "032d5b0a",
   "metadata": {},
   "source": [
    "To convert to Equinoctial Elements"
   ]
  },
  {
   "cell_type": "code",
   "execution_count": null,
   "id": "4fcbe6a2",
   "metadata": {},
   "outputs": [],
   "source": [
    "equi = ijk2equinoctial(r,v,mu)\n",
    "\n",
    "# To extract the individual elements\n",
    "p = equi[..., 0] # p: semi-parameter of the orbit\n",
    "f = equi[..., 1] # f: e cos(raan + argp)\n",
    "g = equi[..., 2] # g: e sin(raan + argp)\n",
    "h = equi[..., 3] # h: tan(incl/2)cos(raan)\n",
    "k = equi[..., 4] # k: tan(incl/2)sin(raan)\n",
    "L = equi[..., 5] # L: true longitude"
   ]
  },
  {
   "cell_type": "markdown",
   "id": "1c49e00b",
   "metadata": {},
   "source": [
    "To get the initial condition (notice the shape - the `odeint` in `SciPy` takes initial condition in this format)"
   ]
  },
  {
   "cell_type": "code",
   "execution_count": null,
   "id": "13ae3293",
   "metadata": {},
   "outputs": [
    {
     "data": {
      "text/plain": [
       "(6,)"
      ]
     },
     "execution_count": 6,
     "metadata": {},
     "output_type": "execute_result"
    }
   ],
   "source": [
    "equi0 = equi[0]\n",
    "kepl0 = kepl[0]\n",
    "\n",
    "equi0.shape"
   ]
  },
  {
   "cell_type": "markdown",
   "id": "64975461",
   "metadata": {},
   "source": [
    "We can also convert between Keplerian and Equinoctial"
   ]
  },
  {
   "cell_type": "code",
   "execution_count": null,
   "id": "aa866a1b",
   "metadata": {},
   "outputs": [],
   "source": [
    "kepl2 = equinoctial2keplerian(equi)\n",
    "equi2 = keplerian2equinoctial(kepl)"
   ]
  },
  {
   "cell_type": "markdown",
   "id": "c060c48c",
   "metadata": {},
   "source": [
    "Finally, if we want to convert back to Cartesian"
   ]
  },
  {
   "cell_type": "code",
   "execution_count": null,
   "id": "f210a18a",
   "metadata": {},
   "outputs": [],
   "source": [
    "r2, v2 = keplerian2ijk(kepl, mu)"
   ]
  },
  {
   "cell_type": "markdown",
   "id": "755c76fb",
   "metadata": {},
   "source": [
    "# Learning models from the data"
   ]
  },
  {
   "cell_type": "markdown",
   "id": "203ed4e2",
   "metadata": {},
   "source": [
    "## Approach 1: Directly fit the time-series solution $x(t)$"
   ]
  },
  {
   "cell_type": "markdown",
   "id": "f9fc94b0",
   "metadata": {},
   "source": [
    "Things to think about:\n",
    "- What coordinate system/ representation would you use?\n",
    "- What are the variables each elements should be represented in? \n",
    "- What operators would you choose?"
   ]
  },
  {
   "cell_type": "code",
   "execution_count": null,
   "id": "c2877ee9",
   "metadata": {},
   "outputs": [],
   "source": [
    "# (insert your code here)\n",
    "# (hint: Which coordinate would you use fit the data?)\n",
    "    # The original Cartesian coordinates (x, y, z)?\n",
    "    # The Keplerian elements (a, e, i, Ω, ω, ν)?\n",
    "    # The Equinoctial elements (p, f, g, h, k, L)?\n",
    "\n",
    "# (hint: What dictionary term would you use to fit the data?)"
   ]
  },
  {
   "cell_type": "markdown",
   "id": "95c178a6",
   "metadata": {},
   "source": [
    "## Approach 2: Fitting the operator $dx/dt=f(x)$ that creates the time-series\n",
    "Instead of fitting $x(t)$, we can also fit $f(x)$ that generate the data in the first place. Before proceeding, think about:\n",
    "- Are we sure the system is invariant in time? i.e. $f(x)$ does not depend on time?\n",
    "- What are the pros and cons of fitting $f(x)$ instead of $x(t)$?\n",
    "  - What if I want the model to be applied to a different initial condition?\n",
    "  - Do you expect the solution coming out of fitting $f(x)$ follow the data in the long term? Why?\n",
    "- What do I want to get out of this dataset? A generalisable model? Physical Understaning? Or just forecasting?"
   ]
  },
  {
   "cell_type": "markdown",
   "id": "8bc6fcf2",
   "metadata": {},
   "source": [
    "###  Approximating time derivatives\n",
    "To fit $f(x)$, we first need an approximation of $dx/dt$."
   ]
  },
  {
   "cell_type": "code",
   "execution_count": 28,
   "id": "5f7bdf03",
   "metadata": {},
   "outputs": [],
   "source": [
    "from scipy.sparse import spdiags\n",
    "\n",
    "## Setting up a 2nd order finite difference matrix\n",
    "N_pt = kepl.shape[0]  # Number of points in the time series\n",
    "dt = t[1] - t[0]\n",
    "I  = spdiags(np.array([[0], [1],[0]]) @ np.ones((1,N_pt)) , np.array([0,1,2]), m = N_pt - 2, n = N_pt)\n",
    "D1 = spdiags(np.array([[-1/2], [0],[1/2]]) @ np.ones((1,N_pt)) / dt, np.array([0,1,2]), m = N_pt - 2, n = N_pt)\n",
    "\n",
    "## Applying to keplerian elements\n",
    "d_kepl_dt = D1 @ kepl # Time derivative of keplerian elements \n",
    "kepl_ = I @ kepl # The keplerian elements value at the time point of the derivative\n",
    "\n",
    "## Applying to equinoctial elements\n",
    "d_equi_dt = D1 @ equi # Time derivative of equinoctial elements \n",
    "equi_ = I @ equi # The equinoctial elements value at the time point of the derivative"
   ]
  },
  {
   "cell_type": "markdown",
   "id": "e8f4d822",
   "metadata": {},
   "source": [
    "You may want to use a more accurate way to find the time derivative!\n",
    "(Also check out the time derivative utility in PySINDy!)"
   ]
  },
  {
   "cell_type": "markdown",
   "id": "f4ac73ec",
   "metadata": {},
   "source": [
    "###  Finding $F_R$, $F_S$ and $F_W$ from the time derivative\n",
    "Given our prior knowledge of the system, we can further reduce the problem to just finding $F_R$, $F_S$ and $F_W$ in terms of the state $x$ based on known transformation between the time derivatives and the perturbation forces on the satellite.\n",
    "- What are the advantages of fitting $F_R$, $F_S$ and $F_W$ instead of the time derivative?\n",
    "\n",
    "How would you go about recovering $F_R$, $F_S$ and $F_W$ from the approximation of the time derivative above?"
   ]
  },
  {
   "cell_type": "code",
   "execution_count": null,
   "id": "426acdb9",
   "metadata": {},
   "outputs": [],
   "source": [
    "# (insert your code here)\n",
    "# (hint: The eqn. to transform  FR FS and FW into d (element)/ dt can be written as:\n",
    "#     d (element)/ dt = A(element,mu) * F_RSW(element) + b(element,mu)\n",
    "#     The function A and b can be found in propagation.py\n",
    "# (hint: look at EquinoctialPropagation.ipynb or KeplerianPropagation.ipynb to see how the derivatives are computed from FR FS and FW)!"
   ]
  }
 ],
 "metadata": {
  "kernelspec": {
   "display_name": ".venv",
   "language": "python",
   "name": "python3"
  },
  "language_info": {
   "codemirror_mode": {
    "name": "ipython",
    "version": 3
   },
   "file_extension": ".py",
   "mimetype": "text/x-python",
   "name": "python",
   "nbconvert_exporter": "python",
   "pygments_lexer": "ipython3",
   "version": "3.12.3"
  }
 },
 "nbformat": 4,
 "nbformat_minor": 5
}
