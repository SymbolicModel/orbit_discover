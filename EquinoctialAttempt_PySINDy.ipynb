{
 "cells": [
  {
   "cell_type": "markdown",
   "metadata": {},
   "source": [
    "# Solution - Learning Satellite orbit from data through  Perturbation forces (in RSW) - by PySINDy"
   ]
  },
  {
   "cell_type": "code",
   "execution_count": 40,
   "metadata": {},
   "outputs": [],
   "source": [
    "import pysindy as ps\n",
    "import numpy as np\n",
    "import pandas as pd\n",
    "import matplotlib.pyplot as plt\n",
    "from src.utils import *\n",
    "from src.propagation import *\n",
    "import pickle"
   ]
  },
  {
   "cell_type": "markdown",
   "metadata": {},
   "source": [
    "Load the CSV file with correct column extraction<br>\n",
    "Assuming the first column is time, next three are position (r1, r2, r3), last three are velocity (v1, v2, v3)"
   ]
  },
  {
   "cell_type": "code",
   "execution_count": 41,
   "metadata": {},
   "outputs": [],
   "source": [
    "df = pd.read_csv('./data/Challenge1.csv', header=0, usecols=[0,1,2,3,4,5,6], names=['time','r1', 'r2', 'r3', 'v1', 'v2', 'v3'])"
   ]
  },
  {
   "cell_type": "markdown",
   "metadata": {},
   "source": [
    "Extract position and velocity arrays<br>\n",
    "Convert time strings to pandas datetime"
   ]
  },
  {
   "cell_type": "code",
   "execution_count": 42,
   "metadata": {},
   "outputs": [],
   "source": [
    "t_raw = pd.to_datetime(df['time'])\n",
    "# Calculate seconds relative to the first time point\n",
    "t = (t_raw - t_raw.iloc[0]).dt.total_seconds().values # Time in seconds relative to first time point\n",
    "r = df[['r1', 'r2', 'r3']].values\n",
    "v = df[['v1', 'v2', 'v3']].values"
   ]
  },
  {
   "cell_type": "markdown",
   "metadata": {},
   "source": [
    "Copying in parameters (from `src/parameter.csv`)"
   ]
  },
  {
   "cell_type": "code",
   "execution_count": 43,
   "metadata": {},
   "outputs": [],
   "source": [
    "mu = 3.986004414498200e14  # Central Body's gravitational constant (m^3/s^2) - from parameter.csv\n",
    "Re = 6.378136460000000e6  # Central Body's equatorial radius (m) - from parameter.csv"
   ]
  },
  {
   "cell_type": "markdown",
   "metadata": {},
   "source": [
    "**Here is an important step**:\n",
    "To help the algorithm learn better, it is often a good idea to non-dimensionalise / rescale your data such that it is at order $\\mathcal{O}(1)$. \n",
    "\n",
    "Alternatively, you may want to use PySR in-built dimension tool to aid the learning."
   ]
  },
  {
   "cell_type": "code",
   "execution_count": 44,
   "metadata": {},
   "outputs": [],
   "source": [
    "## Finding the typical time scale and length scale of the data\n",
    "T_dim = np.sqrt(Re**3 / mu)  # Time unit for non-dimensionalization (s)\n",
    "L_dim = Re  # Length unit for non-dimensionalization (m)"
   ]
  },
  {
   "cell_type": "markdown",
   "metadata": {},
   "source": [
    "Convert the r,v representation to equinoctial"
   ]
  },
  {
   "cell_type": "code",
   "execution_count": 45,
   "metadata": {},
   "outputs": [],
   "source": [
    "equi = ijk2equinoctial(r,v,mu)"
   ]
  },
  {
   "cell_type": "markdown",
   "metadata": {},
   "source": [
    " **Non-dimensionalize equinoctial elements** (see comment above)"
   ]
  },
  {
   "cell_type": "code",
   "execution_count": 46,
   "metadata": {},
   "outputs": [],
   "source": [
    "equi[..., 0] = equi[..., 0] / L_dim  # Only the first element of equinoctial elements has the dimension of length. \n",
    "# The rest are dimensionless\n",
    "t = t / T_dim  # Non-dimensional time"
   ]
  },
  {
   "cell_type": "markdown",
   "metadata": {},
   "source": [
    " Setting up a 2nd order finite difference matrix"
   ]
  },
  {
   "cell_type": "code",
   "execution_count": 47,
   "metadata": {},
   "outputs": [],
   "source": [
    "from scipy.sparse import spdiags"
   ]
  },
  {
   "cell_type": "code",
   "execution_count": 48,
   "metadata": {},
   "outputs": [],
   "source": [
    "N_pt = equi.shape[0]  # Number of points in the time series\n",
    "dt = t[1] - t[0]\n",
    "I  = spdiags(np.array([[0],[0],[0],[0],[0], [1],[0],[0],[0],[0],[0]]) @ np.ones((1,N_pt)) , np.array([0,1,2,3,4,5,6,7,8,9,10]), m = N_pt - 10, n = N_pt)\n",
    "D1 = spdiags(np.array([[-1/1260], [5/504], [-5/84], [5/21], [-5/6], [0], [5/6], [-5/21], [5/84], [-5/504], [1/1260]]) @ np.ones((1,N_pt)) / dt, np.array([0,1,2,3,4,5,6,7,8,9,10]), m = N_pt - 10, n = N_pt)"
   ]
  },
  {
   "cell_type": "markdown",
   "metadata": {},
   "source": [
    " Applying to equinoctial elements"
   ]
  },
  {
   "cell_type": "code",
   "execution_count": 49,
   "metadata": {},
   "outputs": [],
   "source": [
    "d_equi_dt = D1 @ equi # Time derivative of equinoctial elements \n",
    "equi_ = I @ equi # The equinoctial elements value at the time point of the derivative"
   ]
  },
  {
   "cell_type": "markdown",
   "metadata": {},
   "source": [
    "The eqn. to transform  FR FS and FW into d (element)/ dt can be written as:\n",
    "\n",
    "    d (element)/ dt = A(element,mu) * F_RSW(element) + b(element,mu)\n",
    "\n",
    "The function A and b can be found in propagation.py\n",
    "(hint: look at EquinoctialPropagation.ipynb or KeplerianPropagation.ipynb to see how the derivatives are computed from FR FS and FW)!"
   ]
  },
  {
   "cell_type": "code",
   "execution_count": 50,
   "metadata": {},
   "outputs": [],
   "source": [
    "A_ = np.stack([RSW2equi_A(e, 1) for e in equi_])\n",
    "b_ = np.stack([RSW2equi_b(e, 1) for e in equi_])"
   ]
  },
  {
   "cell_type": "code",
   "execution_count": 51,
   "metadata": {},
   "outputs": [],
   "source": [
    "F_RSW_equi = np.array([\n",
    "    # np.linalg.pinv(A_[i]) @ (d_equi_dt[i] - b_[i])\n",
    "    np.linalg.lstsq(A_[i][:-1,...], d_equi_dt[i][:-1])[0]  # More efficient and stable than pinv\n",
    "    for i in range(A_.shape[0])\n",
    "])"
   ]
  },
  {
   "cell_type": "code",
   "execution_count": 52,
   "metadata": {},
   "outputs": [
    {
     "name": "stdout",
     "output_type": "stream",
     "text": [
      "F_RSW_equi shape: (17271, 3)\n",
      "equi_ shape: (17271, 6)\n",
      "d_equi_dt shape: (17271, 6)\n"
     ]
    }
   ],
   "source": [
    "print(\"F_RSW_equi shape:\", F_RSW_equi.shape) \n",
    "print(\"equi_ shape:\", equi_.shape)\n",
    "print(\"d_equi_dt shape:\", d_equi_dt.shape)"
   ]
  },
  {
   "cell_type": "code",
   "execution_count": 53,
   "metadata": {},
   "outputs": [],
   "source": [
    "FR_tar = F_RSW_equi[:,0] \n",
    "FS_tar = F_RSW_equi[:,1]\n",
    "FW_tar = F_RSW_equi[:,2]\n",
    "RHS_in = equi_ "
   ]
  },
  {
   "cell_type": "markdown",
   "metadata": {},
   "source": [
    "Calculate extra inputs from equi_ (midpoint equinoctial elements)"
   ]
  },
  {
   "cell_type": "code",
   "execution_count": 54,
   "metadata": {},
   "outputs": [],
   "source": [
    "p_ = equi_[:, 0]        \n",
    "f_ = equi_[:, 1]        \n",
    "g_ = equi_[:, 2]        \n",
    "h_ = equi_[:, 3]        \n",
    "k_ = equi_[:, 4]       \n",
    "L_ = equi_[:, 5]        "
   ]
  },
  {
   "cell_type": "markdown",
   "metadata": {},
   "source": [
    "While PySR can learn directly the formula for $F_R$, $F_S$, $F_W$ as function of ($p$,$f$,$g$,$h$,$k$,$L$), it is often more helpful to incorperate prior knowledge to aid the learning. \n",
    "\n",
    "Below codify a few functions of ($p$,$f$,$g$,$h$,$k$,$L$) that is going to be helpful."
   ]
  },
  {
   "cell_type": "code",
   "execution_count": 55,
   "metadata": {},
   "outputs": [],
   "source": [
    "s_ = 1 + h_**2 + k_**2  # s = 1 + h^2 + k^2 = sec^2(i/2)\n",
    "w_ = 1 + f_ * np.cos(L_) + g_ * np.sin(L_)  # w = 1 + f*cos(L) + g*sin(L)\n",
    "r_val_ = p_ / w_         # r = p / w"
   ]
  },
  {
   "cell_type": "code",
   "execution_count": 56,
   "metadata": {},
   "outputs": [],
   "source": [
    "sin_u_sin_i_ = 2 * (h_ * np.sin(L_) - k_ * np.cos(L_)) / s_      # sin(u)*sin(i)\n",
    "cos_u_sin_i_ = 2 * (h_ * np.cos(L_) + k_ * np.sin(L_)) / s_      # cos(u)*sin(i)\n",
    "cos_i_ = (1 - h_**2 - k_**2) / s_                                # cos(i)"
   ]
  },
  {
   "cell_type": "markdown",
   "metadata": {},
   "source": [
    "Stack all features together for a custom SINDy library"
   ]
  },
  {
   "cell_type": "code",
   "execution_count": 57,
   "metadata": {},
   "outputs": [],
   "source": [
    "RHS_in = np.column_stack([\n",
    "    r_val_**(-4), sin_u_sin_i_,\n",
    "    cos_u_sin_i_, cos_i_\n",
    "])\n",
    "# You may also want to try a larger feature set, e.g.,\n",
    "# RHS_in = np.column_stack([p_, f_, g_, h_, k_, L_, s_, w_, r_val_, sin_u_sin_i_, cos_u_sin_i_, cos_i_, mu, Re])"
   ]
  },
  {
   "cell_type": "markdown",
   "metadata": {},
   "source": [
    "### Applying PySINDy\n",
    "To make PySINDy learn based on `F_RSW_equi` instead of the typical time derivative, and to make use of the custom library `RHS_in`, we need to do a bit of hack.\n",
    "`F_RSW_equi` can replace the `x_dot` argument, which normally takes the time derivatives as the learning target.\n",
    "Meanwhile, we can exploit the `u` argument in SINDy, which usually take external time-varying control signal as part of the learning problem. Here, we highjack this functionality to input the custom library `RHS_in`. SINDy will then generate a polynomial library of these \"control signal\" with the state variables `x`. \n",
    "\n",
    "Furthermore, since we no longer use `x`, we can replace it with a placeholder. To prevent it from being learnt as a useful signal, we will use a large random vector as the placeholder. Note that it needs to be of the same dimensions as `F_RSW_equi`."
   ]
  },
  {
   "cell_type": "code",
   "execution_count": null,
   "metadata": {},
   "outputs": [],
   "source": [
    "x_placeholder = np.random.random((F_RSW_equi.shape[0],3))*1000  # Large random placeholder to prevent SINDy from learning useful signal from x"
   ]
  },
  {
   "cell_type": "markdown",
   "metadata": {},
   "source": [
    "Now, we can apply PySINDy"
   ]
  },
  {
   "cell_type": "code",
   "execution_count": null,
   "metadata": {},
   "outputs": [
    {
     "name": "stdout",
     "output_type": "stream",
     "text": [
      "(x0)' = 1.500 u0 u1^2 + -0.750 u0 u2^2 + -0.750 u0 u3^2\n",
      "(x1)' = -1.500 u0 u1 u2\n",
      "(x2)' = -1.500 u0 u1 u3\n"
     ]
    }
   ],
   "source": [
    "opt = ps.STLSQ(threshold=1,normalize_columns=True) # You may want to tune the threshold value to see how it affects the sparsity of the learnt model\n",
    "model = ps.SINDy(feature_library=ps.PolynomialLibrary(degree = 3,include_bias=False), # We use polynomial library to generate combinations of the input features. This is contain polynomials columns of RHS_in and x_placeholder up to the specified degree. You may want to try other libraries as well.\n",
    "                 optimizer=opt) \n",
    "model.fit(x_placeholder, u=RHS_in,t=dt, x_dot=F_RSW_equi) # Fit the model. Note that we are using x_placeholder as x, RHS_in as u, and F_RSW_equi as x_dot\n",
    "model.print()"
   ]
  },
  {
   "cell_type": "markdown",
   "metadata": {},
   "source": [
    "Reading from the model learnt above, we have the following formula as the output\n",
    "\n",
    "$$ F_R = 0.75 \\frac{2(\\sin{(u)}\\sin{(i)})^2 -  (\\cos{(u)}\\sin{(i)})^2 -  \\cos^2{(i)}}{r^4} = 0.75 \\frac{8 (\\sin{L} - k \\cos{L})^2 -  4 (h \\cos{L} + k \\sin{L})^2 -  (1-h^2-k^2)^2}{s^2 r^4}  $$\n",
    "$$ F_S = -1.5 \\frac{\\sin{(u)}\\sin{(i)}\\cos{(u)}\\sin{(i)}}{r^4} = -6\\frac{(\\sin{L} - k \\cos{L})(h \\cos{L} + k \\sin{L})}{s^2 r^4}$$\n",
    "$$ F_W =  -1.5 \\frac{\\sin{(u)}\\sin{(i)} \\cos^2{(i)}}{r^4}=-3 \\frac{(\\sin{L} - k \\cos{L})(1-h^2-k^2)}{s^2 r^4}$$"
   ]
  },
  {
   "cell_type": "markdown",
   "metadata": {},
   "source": [
    "The slight downside of hacking PySINDy this way is that we can no longer exploit their in-built propagator.\n",
    "Instead, to propagate the model and compare the result with the correct answer, we can open the above saved models in the `EquinoctialPropagation_PySINDy.ipynb` and propagate the learnt model."
   ]
  }
 ],
 "metadata": {
  "kernelspec": {
   "display_name": "PySR",
   "language": "python",
   "name": "python3"
  },
  "language_info": {
   "codemirror_mode": {
    "name": "ipython",
    "version": 3
   },
   "file_extension": ".py",
   "mimetype": "text/x-python",
   "name": "python",
   "nbconvert_exporter": "python",
   "pygments_lexer": "ipython3",
   "version": "3.13.3"
  }
 },
 "nbformat": 4,
 "nbformat_minor": 2
}
